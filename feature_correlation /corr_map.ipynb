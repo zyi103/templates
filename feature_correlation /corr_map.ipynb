{
 "metadata": {
  "language_info": {
   "codemirror_mode": {
    "name": "ipython",
    "version": 3
   },
   "file_extension": ".py",
   "mimetype": "text/x-python",
   "name": "python",
   "nbconvert_exporter": "python",
   "pygments_lexer": "ipython3",
   "version": "3.7.3"
  },
  "orig_nbformat": 2,
  "kernelspec": {
   "name": "python373jvsc74a57bd0d6be581d66d6041584e8891c467237f97011dc2651abe3e7807bbb1a74ce6485",
   "display_name": "Python 3.7.3 64-bit ('base': conda)"
  },
  "metadata": {
   "interpreter": {
    "hash": "d6be581d66d6041584e8891c467237f97011dc2651abe3e7807bbb1a74ce6485"
   }
  }
 },
 "nbformat": 4,
 "nbformat_minor": 2,
 "cells": [
  {
   "cell_type": "code",
   "execution_count": null,
   "metadata": {},
   "outputs": [],
   "source": [
    "import pandas as pd\n",
    "import seaborn as sns\n",
    "import matplotlib.pyplot as plt\n",
    "import numpy as np\n",
    "from scipy.stats import pearsonr\n",
    "import math\n",
    "from matplotlib.patches import Rectangle\n",
    "from matplotlib import rcParams"
   ]
  },
  {
   "cell_type": "code",
   "execution_count": null,
   "metadata": {},
   "outputs": [],
   "source": [
    "# import data here \n"
   ]
  },
  {
   "cell_type": "code",
   "execution_count": null,
   "metadata": {},
   "outputs": [],
   "source": [
    "def calculate_pvalues(df):\n",
    "    df = df.dropna()._get_numeric_data()\n",
    "    dfcols = pd.DataFrame(columns=df.columns)\n",
    "    pvalues = dfcols.transpose().join(dfcols, how='outer')\n",
    "    for r in df.columns:\n",
    "        for c in df.columns:\n",
    "            pvalues[r][c] = float(pearsonr(df[r], df[c])[1])\n",
    "    return pvalues"
   ]
  },
  {
   "cell_type": "code",
   "execution_count": null,
   "metadata": {},
   "outputs": [],
   "source": [
    "pdf = calculate_pvalues(df).apply(pd.to_numeric)\n",
    "xsig = []\n",
    "ysig = []\n",
    "ssig = []\n",
    "for c in range(len(pdf.columns)):\n",
    "    for r in range(len(pdf)):\n",
    "        pv = pdf.iloc[c,r]\n",
    "        if r > c and pv < 0.05:\n",
    "            xsig.append(c+0.5)\n",
    "            ysig.append(r+0.55)\n",
    "            if pv < 0.001:\n",
    "                ssig.append('\\u2217')\n",
    "            elif pv < 0.01:\n",
    "                ssig.append('+')\n",
    "            else:\n",
    "                ssig.append('\\u00b7')"
   ]
  },
  {
   "cell_type": "code",
   "execution_count": null,
   "metadata": {
    "tags": []
   },
   "outputs": [],
   "source": [
    "fig, ax = plt.subplots(figsize=(15,12))\n",
    "fontsize = len(df.columns)*.6\n",
    "corr = df.corr()\n",
    "\n",
    "# heatmap mask and color\n",
    "mask = np.zeros_like(corr)\n",
    "mask[np.triu_indices_from(mask)] = True\n",
    "cmap = sns.cm.vlag_r\n",
    "\n",
    "# plots\n",
    "heatmap = sns.heatmap(corr, cmap=cmap, cbar_kws=dict(shrink=0.5, location=\"right\"), vmin = -1, vmax = 1, mask=mask,linewidths=1.5)\n",
    "for i, pdot in enumerate(ssig):\n",
    "    ax.text(xsig[i],ysig[i],pdot,horizontalalignment='center', verticalalignment='center', fontsize=fontsize, fontfamily='sans-serif')\n",
    "\n",
    "# legends and title\n",
    "props = dict(boxstyle='round',facecolor='none', edgecolor='gray')\n",
    "plt.text(len(pdf.columns)+1, 3, \"   p-value \\n \\u2217 <  0.001  \\n + <  0.01 \\n \\u00b7 <  0.05\", bbox=props, fontsize=fontsize, fontfamily='monospace')\n",
    "# handles, labels = dot.legend_elements(prop=\"sizes\", alpha=0.6, func= lambda x: 0.05-(x/1000))\n",
    "# legend2 = ax.legend(handles, labels, loc=\"upper right\", title=\"p-value\")\n",
    "plt.title(\"Feature Correlation - Download Prediction\", size=20)"
   ]
  }
 ]
}